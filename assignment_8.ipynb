{
  "nbformat": 4,
  "nbformat_minor": 0,
  "metadata": {
    "colab": {
      "name": "assignment 8.ipynb",
      "provenance": [],
      "authorship_tag": "ABX9TyN2ip90y89ZyYc30SdEdZFL",
      "include_colab_link": true
    },
    "kernelspec": {
      "name": "python3",
      "display_name": "Python 3"
    }
  },
  "cells": [
    {
      "cell_type": "markdown",
      "metadata": {
        "id": "view-in-github",
        "colab_type": "text"
      },
      "source": [
        "<a href=\"https://colab.research.google.com/github/laya2002/assignment-8/blob/master/assignment_8.ipynb\" target=\"_parent\"><img src=\"https://colab.research.google.com/assets/colab-badge.svg\" alt=\"Open In Colab\"/></a>"
      ]
    },
    {
      "cell_type": "code",
      "metadata": {
        "id": "XIRf3s7UxRdN",
        "colab_type": "code",
        "colab": {}
      },
      "source": [
        ""
      ],
      "execution_count": null,
      "outputs": []
    },
    {
      "cell_type": "markdown",
      "metadata": {
        "id": "REXEQQlWxZeP",
        "colab_type": "text"
      },
      "source": [
        "write a phyton program to calculate the length of a string "
      ]
    },
    {
      "cell_type": "code",
      "metadata": {
        "id": "BgjqbFuzxo5O",
        "colab_type": "code",
        "colab": {
          "base_uri": "https://localhost:8080/",
          "height": 34
        },
        "outputId": "b3184b42-03b5-4e92-db7e-ea0e6634a1fb"
      },
      "source": [
        "a=\"hello\"\n",
        "print(len(a))"
      ],
      "execution_count": 1,
      "outputs": [
        {
          "output_type": "stream",
          "text": [
            "5\n"
          ],
          "name": "stdout"
        }
      ]
    },
    {
      "cell_type": "markdown",
      "metadata": {
        "id": "YFr8NWfxyHpD",
        "colab_type": "text"
      },
      "source": [
        "write a phyton program to count the number of characters (character frequence) in a string"
      ]
    },
    {
      "cell_type": "code",
      "metadata": {
        "id": "K7en6SJ7yf7F",
        "colab_type": "code",
        "colab": {
          "base_uri": "https://localhost:8080/",
          "height": 51
        },
        "outputId": "52f3ba75-4074-4466-c9e7-3624bfe2aa7c"
      },
      "source": [
        "a=str(input('enter the string'))\n",
        "count=0\n",
        "for i in a:\n",
        "  count=count+1\n",
        "print(\"total no.of characters in the string=\",count)"
      ],
      "execution_count": 2,
      "outputs": [
        {
          "output_type": "stream",
          "text": [
            "enter the stringlaya\n",
            "total no.of characters in the string= 4\n"
          ],
          "name": "stdout"
        }
      ]
    },
    {
      "cell_type": "markdown",
      "metadata": {
        "id": "t-HPMKUsz3MN",
        "colab_type": "text"
      },
      "source": [
        "write a phyton program to get a single string from two given strings , separated by a space and sample and swap the first two character of each string"
      ]
    },
    {
      "cell_type": "code",
      "metadata": {
        "id": "9ZofqHmO0roo",
        "colab_type": "code",
        "colab": {
          "base_uri": "https://localhost:8080/",
          "height": 51
        },
        "outputId": "16f2e35f-faf0-4b92-b296-7f6b92f2c4ad"
      },
      "source": [
        "c = input()\n",
        "t = len(c)\n",
        "temp = \"\"\n",
        "for i in range(0,len(c)):\n",
        "   if t<3:\n",
        "     break\n",
        "   else:\n",
        "     if i in (0,1,t-2,t-1):\n",
        "       temp = temp+c[i]\n",
        "     else:\n",
        "        continue\n",
        "print(temp)"
      ],
      "execution_count": 1,
      "outputs": [
        {
          "output_type": "stream",
          "text": [
            "laya\n",
            "laya\n"
          ],
          "name": "stdout"
        }
      ]
    },
    {
      "cell_type": "markdown",
      "metadata": {
        "id": "3zXTB1ov5VbG",
        "colab_type": "text"
      },
      "source": [
        "write a phyton program sctipt that takes input from the user and displays that input back in upper and lower cases "
      ]
    },
    {
      "cell_type": "code",
      "metadata": {
        "id": "H_WwVx8_5vot",
        "colab_type": "code",
        "colab": {
          "base_uri": "https://localhost:8080/",
          "height": 34
        },
        "outputId": "291506dc-6460-4725-f0d5-ff7c8128ec6a"
      },
      "source": [
        "a=\"hello\"\n",
        "print(a.upper())"
      ],
      "execution_count": 2,
      "outputs": [
        {
          "output_type": "stream",
          "text": [
            "HELLO\n"
          ],
          "name": "stdout"
        }
      ]
    },
    {
      "cell_type": "markdown",
      "metadata": {
        "id": "4ASkiG3b-saG",
        "colab_type": "text"
      },
      "source": [
        "write a phyton program to remove a newline in phyton "
      ]
    },
    {
      "cell_type": "code",
      "metadata": {
        "id": "3OB0mXPk_tyM",
        "colab_type": "code",
        "colab": {
          "base_uri": "https://localhost:8080/",
          "height": 51
        },
        "outputId": "b97aec7e-8e54-4023-fd4c-da9c949a7046"
      },
      "source": [
        "str1=\"hello\"\n",
        "print(str1)\n",
        "print(str1.strip())\n"
      ],
      "execution_count": 10,
      "outputs": [
        {
          "output_type": "stream",
          "text": [
            "hello\n",
            "hello\n"
          ],
          "name": "stdout"
        }
      ]
    },
    {
      "cell_type": "markdown",
      "metadata": {
        "id": "VJrXnNG4AQPV",
        "colab_type": "text"
      },
      "source": [
        "write a phyton program to count occurances of a substring in a string"
      ]
    },
    {
      "cell_type": "code",
      "metadata": {
        "id": "UwbOlYUMAgi7",
        "colab_type": "code",
        "colab": {
          "base_uri": "https://localhost:8080/",
          "height": 68
        },
        "outputId": "7b90f868-c239-4e4d-c713-0a4b35adf9b9"
      },
      "source": [
        "str1 = 'thid is layarevanth and i am from tadipatri and i wanna go for a tour'\n",
        "print()\n",
        "print(str1.count(\"and\"))\n",
        "print()"
      ],
      "execution_count": 11,
      "outputs": [
        {
          "output_type": "stream",
          "text": [
            "\n",
            "2\n",
            "\n"
          ],
          "name": "stdout"
        }
      ]
    },
    {
      "cell_type": "markdown",
      "metadata": {
        "id": "RNS6y442BNlQ",
        "colab_type": "text"
      },
      "source": [
        "write a phyton program  to convert a string in a list"
      ]
    },
    {
      "cell_type": "code",
      "metadata": {
        "id": "kscQ86hQBbjI",
        "colab_type": "code",
        "colab": {
          "base_uri": "https://localhost:8080/",
          "height": 34
        },
        "outputId": "a0f8b7d5-660c-4560-890f-5d4b9027761b"
      },
      "source": [
        "def convert(string):\n",
        "  li = list(string.split(\"-\"))\n",
        "  return li\n",
        "str1 = \"laya\"\n",
        "print(convert(str1))\n"
      ],
      "execution_count": 14,
      "outputs": [
        {
          "output_type": "stream",
          "text": [
            "['laya']\n"
          ],
          "name": "stdout"
        }
      ]
    },
    {
      "cell_type": "markdown",
      "metadata": {
        "id": "EmCMDgkeCr6D",
        "colab_type": "text"
      },
      "source": [
        "write a phyton program to perform delation of a character"
      ]
    },
    {
      "cell_type": "code",
      "metadata": {
        "id": "Xb7EaKVCC1rm",
        "colab_type": "code",
        "colab": {
          "base_uri": "https://localhost:8080/",
          "height": 129
        },
        "outputId": "f3268a36-6b4c-4a7d-c326-ac0af68267db"
      },
      "source": [
        "s = 'laya'\n",
        "print(s.del('a',''))"
      ],
      "execution_count": 15,
      "outputs": [
        {
          "output_type": "error",
          "ename": "SyntaxError",
          "evalue": "ignored",
          "traceback": [
            "\u001b[0;36m  File \u001b[0;32m\"<ipython-input-15-cefdf46620e6>\"\u001b[0;36m, line \u001b[0;32m2\u001b[0m\n\u001b[0;31m    print(s.del('a',''))\u001b[0m\n\u001b[0m              ^\u001b[0m\n\u001b[0;31mSyntaxError\u001b[0m\u001b[0;31m:\u001b[0m invalid syntax\n"
          ]
        }
      ]
    },
    {
      "cell_type": "markdown",
      "metadata": {
        "id": "IIbUP8jCDHP7",
        "colab_type": "text"
      },
      "source": [
        "write a phyton program to print every character of a string entered by user in a new line using loop"
      ]
    },
    {
      "cell_type": "code",
      "metadata": {
        "id": "oS8pFWmuDbdL",
        "colab_type": "code",
        "colab": {
          "base_uri": "https://localhost:8080/",
          "height": 85
        },
        "outputId": "c450a791-f8e9-47b1-944d-efeb04b35344"
      },
      "source": [
        "word = 'pass'\n",
        "print(word[0])\n",
        "print(word[1])\n",
        "print(word[2])\n",
        "print(word[3])"
      ],
      "execution_count": 16,
      "outputs": [
        {
          "output_type": "stream",
          "text": [
            "p\n",
            "a\n",
            "s\n",
            "s\n"
          ],
          "name": "stdout"
        }
      ]
    }
  ]
}